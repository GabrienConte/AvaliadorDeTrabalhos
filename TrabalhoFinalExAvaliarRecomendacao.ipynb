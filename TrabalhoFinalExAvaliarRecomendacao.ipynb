{
  "nbformat": 4,
  "nbformat_minor": 0,
  "metadata": {
    "colab": {
      "provenance": [],
      "authorship_tag": "ABX9TyPXWEuK2kWJiigK40Rg1YLk",
      "include_colab_link": true
    },
    "kernelspec": {
      "name": "python3",
      "display_name": "Python 3"
    },
    "language_info": {
      "name": "python"
    }
  },
  "cells": [
    {
      "cell_type": "markdown",
      "metadata": {
        "id": "view-in-github",
        "colab_type": "text"
      },
      "source": [
        "<a href=\"https://colab.research.google.com/github/GabrienConte/AvaliadorDeTrabalhos/blob/master/TrabalhoFinalExAvaliarRecomendacao.ipynb\" target=\"_parent\"><img src=\"https://colab.research.google.com/assets/colab-badge.svg\" alt=\"Open In Colab\"/></a>"
      ]
    },
    {
      "cell_type": "code",
      "source": [
        "pip install scikit-surprise"
      ],
      "metadata": {
        "colab": {
          "base_uri": "https://localhost:8080/"
        },
        "id": "wLTguXon1sGs",
        "outputId": "7ec1fd2e-c66d-4070-91e4-035fdb8bbc68"
      },
      "execution_count": 5,
      "outputs": [
        {
          "output_type": "stream",
          "name": "stdout",
          "text": [
            "Collecting scikit-surprise\n",
            "  Downloading scikit_surprise-1.1.4.tar.gz (154 kB)\n",
            "\u001b[?25l     \u001b[90m━━━━━━━━━━━━━━━━━━━━━━━━━━━━━━━━━━━━━━━━\u001b[0m \u001b[32m0.0/154.4 kB\u001b[0m \u001b[31m?\u001b[0m eta \u001b[36m-:--:--\u001b[0m\r\u001b[2K     \u001b[91m━━━━━━━━━━━━━━━━━━━━━━━━━━━━━━━━━━━━━━━\u001b[0m\u001b[91m╸\u001b[0m \u001b[32m153.6/154.4 kB\u001b[0m \u001b[31m4.9 MB/s\u001b[0m eta \u001b[36m0:00:01\u001b[0m\r\u001b[2K     \u001b[90m━━━━━━━━━━━━━━━━━━━━━━━━━━━━━━━━━━━━━━━━\u001b[0m \u001b[32m154.4/154.4 kB\u001b[0m \u001b[31m3.4 MB/s\u001b[0m eta \u001b[36m0:00:00\u001b[0m\n",
            "\u001b[?25h  Installing build dependencies ... \u001b[?25l\u001b[?25hdone\n",
            "  Getting requirements to build wheel ... \u001b[?25l\u001b[?25hdone\n",
            "  Preparing metadata (pyproject.toml) ... \u001b[?25l\u001b[?25hdone\n",
            "Requirement already satisfied: joblib>=1.2.0 in /usr/local/lib/python3.10/dist-packages (from scikit-surprise) (1.4.2)\n",
            "Requirement already satisfied: numpy>=1.19.5 in /usr/local/lib/python3.10/dist-packages (from scikit-surprise) (1.26.4)\n",
            "Requirement already satisfied: scipy>=1.6.0 in /usr/local/lib/python3.10/dist-packages (from scikit-surprise) (1.13.1)\n",
            "Building wheels for collected packages: scikit-surprise\n",
            "  Building wheel for scikit-surprise (pyproject.toml) ... \u001b[?25l\u001b[?25hdone\n",
            "  Created wheel for scikit-surprise: filename=scikit_surprise-1.1.4-cp310-cp310-linux_x86_64.whl size=2357264 sha256=d852563f7de8d3a18e759a44033f2704b859d778d1d60e321e8575057c10ab7c\n",
            "  Stored in directory: /root/.cache/pip/wheels/4b/3f/df/6acbf0a40397d9bf3ff97f582cc22fb9ce66adde75bc71fd54\n",
            "Successfully built scikit-surprise\n",
            "Installing collected packages: scikit-surprise\n",
            "Successfully installed scikit-surprise-1.1.4\n"
          ]
        }
      ]
    },
    {
      "cell_type": "code",
      "execution_count": 33,
      "metadata": {
        "id": "rpiQm3d_zJM_"
      },
      "outputs": [],
      "source": [
        "import pandas as pd\n",
        "from surprise import KNNBasic, SlopeOne\n",
        "from surprise import Dataset\n",
        "from surprise import Reader\n",
        "from surprise.model_selection import cross_validate"
      ]
    },
    {
      "cell_type": "code",
      "source": [
        "url = 'https://files.grouplens.org/datasets/movielens/ml-100k/u.data'\n",
        "df = pd.read_csv(url, sep='\\t', names=['user', 'item', 'rating', 'timestamp'])\n",
        "reader = Reader(rating_scale=(1, 5))\n",
        "data = Dataset.load_from_df(df[['user', 'item', 'rating']], reader=reader)"
      ],
      "metadata": {
        "id": "6Ugf7F6a0n-Z"
      },
      "execution_count": 34,
      "outputs": []
    },
    {
      "cell_type": "code",
      "source": [
        "knn_model = KNNBasic()\n",
        "print(\"Validação cruzada para KNN:\")\n",
        "knn_results = cross_validate(knn_model, data, measures=['RMSE', 'MAE'], cv=5, verbose=True)\n",
        "\n",
        "slope_one_model = SlopeOne()\n",
        "print(\"\\nValidação cruzada para Slope One:\")\n",
        "slope_one_results = cross_validate(slope_one_model, data, measures=['RMSE', 'MAE'], cv=5, verbose=True)"
      ],
      "metadata": {
        "colab": {
          "base_uri": "https://localhost:8080/"
        },
        "id": "Dlhw-H6c5Ns6",
        "outputId": "281244fd-cf42-4081-f1f9-fc43df3e9a98"
      },
      "execution_count": 35,
      "outputs": [
        {
          "output_type": "stream",
          "name": "stdout",
          "text": [
            "Validação cruzada para KNN:\n",
            "Computing the msd similarity matrix...\n",
            "Done computing similarity matrix.\n",
            "Computing the msd similarity matrix...\n",
            "Done computing similarity matrix.\n",
            "Computing the msd similarity matrix...\n",
            "Done computing similarity matrix.\n",
            "Computing the msd similarity matrix...\n",
            "Done computing similarity matrix.\n",
            "Computing the msd similarity matrix...\n",
            "Done computing similarity matrix.\n",
            "Evaluating RMSE, MAE of algorithm KNNBasic on 5 split(s).\n",
            "\n",
            "                  Fold 1  Fold 2  Fold 3  Fold 4  Fold 5  Mean    Std     \n",
            "RMSE (testset)    0.9826  0.9836  0.9742  0.9799  0.9752  0.9791  0.0038  \n",
            "MAE (testset)     0.7754  0.7739  0.7703  0.7760  0.7715  0.7734  0.0022  \n",
            "Fit time          0.34    0.38    0.38    0.38    0.37    0.37    0.02    \n",
            "Test time         3.34    4.36    3.41    3.26    5.77    4.03    0.96    \n",
            "\n",
            "Validação cruzada para Slope One:\n",
            "Evaluating RMSE, MAE of algorithm SlopeOne on 5 split(s).\n",
            "\n",
            "                  Fold 1  Fold 2  Fold 3  Fold 4  Fold 5  Mean    Std     \n",
            "RMSE (testset)    0.9394  0.9388  0.9457  0.9460  0.9518  0.9444  0.0048  \n",
            "MAE (testset)     0.7379  0.7379  0.7426  0.7444  0.7499  0.7425  0.0045  \n",
            "Fit time          0.81    0.78    1.12    0.76    0.77    0.85    0.13    \n",
            "Test time         2.58    2.76    3.31    2.60    2.78    2.81    0.26    \n"
          ]
        }
      ]
    },
    {
      "cell_type": "code",
      "source": [
        "print(\"\\nResumo dos resultados:\")\n",
        "print(f\"KNN - Média RMSE: {knn_results['test_rmse'].mean():.4f}, Média MAE: {knn_results['test_mae'].mean():.4f}\")\n",
        "print(f\"Slope One - Média RMSE: {slope_one_results['test_rmse'].mean():.4f}, Média MAE: {slope_one_results['test_mae'].mean():.4f}\")"
      ],
      "metadata": {
        "colab": {
          "base_uri": "https://localhost:8080/"
        },
        "id": "r7qRk7sSCrAU",
        "outputId": "0a9a20da-c38f-4d78-b474-ab06e781f0bc"
      },
      "execution_count": 36,
      "outputs": [
        {
          "output_type": "stream",
          "name": "stdout",
          "text": [
            "\n",
            "Resumo dos resultados:\n",
            "KNN - Média RMSE: 0.9791, Média MAE: 0.7734\n",
            "Slope One - Média RMSE: 0.9444, Média MAE: 0.7425\n"
          ]
        }
      ]
    },
    {
      "cell_type": "code",
      "source": [],
      "metadata": {
        "id": "Jq138fdC5fjs"
      },
      "execution_count": null,
      "outputs": []
    }
  ]
}